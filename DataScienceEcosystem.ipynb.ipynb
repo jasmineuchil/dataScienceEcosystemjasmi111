{
 "cells": [
  {
   "cell_type": "markdown",
   "id": "4fe744a9-79bd-4861-b087-df136d7831e6",
   "metadata": {},
   "source": [
    "# Data Science Tools and Ecosystem"
   ]
  },
  {
   "cell_type": "markdown",
   "id": "1df206db-e11e-47fa-a396-ca670f4b70c0",
   "metadata": {},
   "source": [
    "In this notebook, Data Science Tools and Ecosystem are summarized."
   ]
  },
  {
   "cell_type": "markdown",
   "id": "66c460cf-26ef-440f-87b7-70dbdad03b5b",
   "metadata": {},
   "source": [
    "** Objectives: **\n",
    "- List popular languages for Data Science\n",
    "- Commonly user libraries\n",
    "- Arithmetic expression in Python\n",
    "\n"
   ]
  },
  {
   "cell_type": "markdown",
   "id": "a13a1d46-4ffc-4ba6-b96a-c9b527b262fc",
   "metadata": {},
   "source": [
    "Some of the popular languages that Data Scientists use are:\n",
    "1. Python\n",
    "2. R\n",
    "3. Java"
   ]
  },
  {
   "cell_type": "markdown",
   "id": "6151c79a-9523-48b7-b7ac-29c96575ee21",
   "metadata": {},
   "source": [
    "Some of the commonly used libraries used by Data Scientists include:\n",
    "1. pandas\n",
    "2. numpy\n",
    "3. matpoltlob"
   ]
  },
  {
   "cell_type": "markdown",
   "id": "6af09861-23dd-42dc-9f9b-606767022494",
   "metadata": {},
   "source": [
    "| Data Science Tools |\n",
    "| -------------------|\n",
    "| Jupyter notebook|\n",
    "|MATLAB |\n",
    "|Apache Spark"
   ]
  },
  {
   "cell_type": "markdown",
   "id": "acd89a53-9fcb-4452-843d-d658ffb5f253",
   "metadata": {},
   "source": [
    "### Below are a few examples of evaluating arithmetic expressions in Python."
   ]
  },
  {
   "cell_type": "code",
   "execution_count": 2,
   "id": "4871bcd0-5f5e-4196-abf0-2f7c8f1533a8",
   "metadata": {},
   "outputs": [],
   "source": [
    "# This a simple arithmetic expression to mutiply then add integers"
   ]
  },
  {
   "cell_type": "code",
   "execution_count": 3,
   "id": "58890c81-2bfd-4de8-b012-d3c81b67eb71",
   "metadata": {},
   "outputs": [
    {
     "data": {
      "text/plain": [
       "17"
      ]
     },
     "execution_count": 3,
     "metadata": {},
     "output_type": "execute_result"
    }
   ],
   "source": [
    "(3*4)+5"
   ]
  },
  {
   "cell_type": "code",
   "execution_count": 4,
   "id": "7e33e80d-8f28-4056-a9d4-1aa57ff91155",
   "metadata": {},
   "outputs": [],
   "source": [
    "# This will convert 200 minutes to hours by diving by 60"
   ]
  },
  {
   "cell_type": "code",
   "execution_count": 5,
   "id": "c4c80dcf-8996-496a-a8ea-4c98220cb83a",
   "metadata": {
    "scrolled": true
   },
   "outputs": [
    {
     "data": {
      "text/plain": [
       "3.3333333333333335"
      ]
     },
     "execution_count": 5,
     "metadata": {},
     "output_type": "execute_result"
    }
   ],
   "source": [
    "200/60"
   ]
  },
  {
   "cell_type": "markdown",
   "id": "e7a7165f-301e-4751-880a-76e664c33912",
   "metadata": {},
   "source": [
    "## Author\n",
    "Jasmine"
   ]
  },
  {
   "cell_type": "code",
   "execution_count": null,
   "id": "d2f229c6-4f04-4099-832c-0f5ec20ccc86",
   "metadata": {},
   "outputs": [],
   "source": []
  },
  {
   "cell_type": "code",
   "execution_count": null,
   "id": "3e6fbbeb-1af5-4536-b7a1-39b8e41a2e7d",
   "metadata": {},
   "outputs": [],
   "source": []
  },
  {
   "cell_type": "code",
   "execution_count": null,
   "id": "6ac4a267-2591-4eeb-a48b-497f340ba065",
   "metadata": {},
   "outputs": [],
   "source": []
  }
 ],
 "metadata": {
  "kernelspec": {
   "display_name": "Python 3 (ipykernel)",
   "language": "python",
   "name": "python3"
  },
  "language_info": {
   "codemirror_mode": {
    "name": "ipython",
    "version": 3
   },
   "file_extension": ".py",
   "mimetype": "text/x-python",
   "name": "python",
   "nbconvert_exporter": "python",
   "pygments_lexer": "ipython3",
   "version": "3.12.2"
  }
 },
 "nbformat": 4,
 "nbformat_minor": 5
}
